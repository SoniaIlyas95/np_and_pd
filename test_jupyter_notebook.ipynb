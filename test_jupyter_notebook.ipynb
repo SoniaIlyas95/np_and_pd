{
 "cells": [
  {
   "cell_type": "markdown",
   "id": "3feed800",
   "metadata": {},
   "source": [
    "# python\n",
    "## how to write on jupyter notebook\n",
    "## basics of python"
   ]
  },
  {
   "cell_type": "markdown",
   "id": "e3577c2e",
   "metadata": {},
   "source": [
    "### 1- My first program"
   ]
  },
  {
   "cell_type": "code",
   "execution_count": 1,
   "id": "4b73fef4",
   "metadata": {
    "scrolled": true
   },
   "outputs": [
    {
     "name": "stdout",
     "output_type": "stream",
     "text": [
      "5\n",
      "hello world\n",
      "what are you doing?\n"
     ]
    }
   ],
   "source": [
    "print(2+3)\n",
    "print(\"hello world\")\n",
    "print(\"what are you doing?\")"
   ]
  },
  {
   "cell_type": "markdown",
   "id": "ba0017c1",
   "metadata": {},
   "source": [
    "### 2- Operators"
   ]
  },
  {
   "cell_type": "code",
   "execution_count": 2,
   "id": "0f8e0cb6",
   "metadata": {},
   "outputs": [
    {
     "name": "stdout",
     "output_type": "stream",
     "text": [
      "10\n",
      "62\n",
      "32\n",
      "2\n",
      "16\n",
      "6.5\n"
     ]
    }
   ],
   "source": [
    "print(4+6)\n",
    "print(6_2)\n",
    "print(4*8)\n",
    "print(4//2)\n",
    "print(2**4)\n",
    "print(2-3/6+5)"
   ]
  },
  {
   "cell_type": "markdown",
   "id": "533e8ffd",
   "metadata": {},
   "source": [
    "### 3_strings"
   ]
  },
  {
   "cell_type": "code",
   "execution_count": 3,
   "id": "3207fa25",
   "metadata": {},
   "outputs": [
    {
     "name": "stdout",
     "output_type": "stream",
     "text": [
      "what are you saying?\n",
      "hello, how are you?\n",
      "you are looking great\n"
     ]
    }
   ],
   "source": [
    "print(\"what are you saying?\")\n",
    "print(\"hello, how are you?\")\n",
    "print(\"you are looking great\")"
   ]
  },
  {
   "cell_type": "markdown",
   "id": "ace33935",
   "metadata": {},
   "source": [
    "### 4_comments"
   ]
  },
  {
   "cell_type": "code",
   "execution_count": 4,
   "id": "20310480",
   "metadata": {},
   "outputs": [
    {
     "name": "stdout",
     "output_type": "stream",
     "text": [
      "waht are you doing?\n"
     ]
    }
   ],
   "source": [
    "#print(2+3)\n",
    "#print(\"hello world\")\n",
    "print(\"waht are you doing?\")"
   ]
  },
  {
   "cell_type": "markdown",
   "id": "9fdb6c50",
   "metadata": {},
   "source": [
    "### 5_variables"
   ]
  },
  {
   "cell_type": "code",
   "execution_count": 5,
   "id": "d11a8edd",
   "metadata": {},
   "outputs": [
    {
     "name": "stdout",
     "output_type": "stream",
     "text": [
      "12\n",
      "you are just doing great\n",
      "15\n",
      "<class 'int'>\n",
      "<class 'str'>\n",
      "apples\n",
      "<class 'str'>\n"
     ]
    }
   ],
   "source": [
    "x = 12\n",
    "y = \"you are just doing great\"\n",
    "print(x)\n",
    "print(y)\n",
    "\n",
    "x=3+x\n",
    "print(x)\n",
    "\n",
    "print (type(x))\n",
    "print(type(y))\n",
    "\n",
    "fruit_basket=\"apples\"\n",
    "print(fruit_basket)\n",
    "print(type(fruit_basket))"
   ]
  },
  {
   "cell_type": "markdown",
   "id": "c384f03b",
   "metadata": {},
   "source": [
    "### 6_input variables"
   ]
  },
  {
   "cell_type": "code",
   "execution_count": 6,
   "id": "f8af1d67",
   "metadata": {},
   "outputs": [
    {
     "name": "stdout",
     "output_type": "stream",
     "text": [
      "what is your name?sonia\n",
      "how old are you16\n",
      "hello sonia you are looking pretty\n"
     ]
    }
   ],
   "source": [
    "#input fucntion simple\n",
    "#fruit_basket=input(\"which is your favourite fruit?\")\n",
    "\n",
    "#input fuction 2nd stage\n",
    "#name=input(\"what are your names?\")\n",
    "#greetings=(\"hello girls\")\n",
    "#print(greetings,name)\n",
    "\n",
    "#2nd way of stage 2\n",
    "#name=input(\"what is your name?\")\n",
    "#print(\"hello\",name)\n",
    "\n",
    "\n",
    "#3rd stage input function\n",
    "name=input(\"what is your name?\")\n",
    "age=input(\"how old are you\")\n",
    "greeting=\"hello\"\n",
    "comments= (\"you are looking pretty\")\n",
    "print(greeting,name, comments)"
   ]
  },
  {
   "cell_type": "markdown",
   "id": "0210285c",
   "metadata": {},
   "source": [
    "### 7_conditional logics"
   ]
  },
  {
   "cell_type": "code",
   "execution_count": 7,
   "id": "57db3ff4",
   "metadata": {},
   "outputs": [
    {
     "name": "stdout",
     "output_type": "stream",
     "text": [
      "how old is fajar?3\n",
      "<class 'int'>\n",
      "False\n"
     ]
    }
   ],
   "source": [
    "#print(4==4)\n",
    "#print(3<=4)\n",
    "#print(5>=5)\n",
    "#print(3<5)\n",
    "#print(5>2)\n",
    "#print(4!=4)\n",
    "\n",
    "\n",
    "#applications of logical operators\n",
    "#fajar_age=3\n",
    "#age_at_school=5\n",
    "#print(fajar_age==age_at_school)\n",
    "\n",
    "\n",
    "#input fuction and logical operators\n",
    "age_at_school=5\n",
    "fajar_age=input(\"how old is fajar?\") #input function\n",
    "#print(fajar_age==age_at_school)\n",
    "#print(type(fajar_age))\n",
    "#convert it into integer\n",
    "fajar_age=int(fajar_age)\n",
    "print(type(fajar_age))\n",
    "print(fajar_age==age_at_school) #logical operators"
   ]
  },
  {
   "cell_type": "markdown",
   "id": "fa686a5b",
   "metadata": {},
   "source": [
    "### 8_type_conversion"
   ]
  },
  {
   "cell_type": "code",
   "execution_count": 8,
   "id": "d424577e",
   "metadata": {},
   "outputs": [
    {
     "name": "stdout",
     "output_type": "stream",
     "text": [
      "<class 'float'>\n",
      "what is your name?sonia\n",
      "sonia <class 'str'>\n"
     ]
    }
   ],
   "source": [
    "#x=11\n",
    "y=12.2\n",
    "#z=\"hello everyone\"\n",
    "#print(type(x))\n",
    "print(type(y))\n",
    "#print(type(z))\n",
    "#x=x+y\n",
    "#y=x/y\n",
    "#print(x)\n",
    "#print(y)\n",
    "\n",
    "#implicit type conversion\n",
    "#print(x,type(x))\n",
    "\n",
    "#explicit type function\n",
    "#age=input(\"what is your age?\")\n",
    "name=input(\"what is your name?\")\n",
    "#print(type(age))\n",
    "\n",
    "#first method to convert string to integer\n",
    "#age=int(age)\n",
    "#print(type(age))\n",
    "\n",
    "#2nd way\n",
    "#print(type(int(age)))\n",
    "#print(age,type(int(age)))\n",
    "\n",
    "#for value in points\n",
    "#print(age,type(float(age)))\n",
    "print(name,type(str(name)))"
   ]
  },
  {
   "cell_type": "markdown",
   "id": "ca38a5e9",
   "metadata": {},
   "source": [
    "### 9_if,elif and else statment"
   ]
  },
  {
   "cell_type": "code",
   "execution_count": 9,
   "id": "1983cc22",
   "metadata": {},
   "outputs": [
    {
     "name": "stdout",
     "output_type": "stream",
     "text": [
      "fajar should join school\n"
     ]
    }
   ],
   "source": [
    "age_at_school=5\n",
    "fajar_age=5\n",
    "#Q can fajar go to school?\n",
    "#if statment\n",
    "if fajar_age==age_at_school:\n",
    " print(\"fajar should join school\")\n",
    "#elif statment\n",
    "elif fajar_age!=age_at_school:\n",
    " print(\"she cannot go to school\")\n",
    "#else statment\n",
    "else:\n",
    " print(\"she should join higher school\")"
   ]
  },
  {
   "cell_type": "markdown",
   "id": "1bb2c2cd",
   "metadata": {},
   "source": [
    "### 10_functions"
   ]
  },
  {
   "cell_type": "code",
   "execution_count": 10,
   "id": "63e12347",
   "metadata": {},
   "outputs": [
    {
     "name": "stdout",
     "output_type": "stream",
     "text": [
      "i am using vs code\n",
      "i am using vs code\n",
      "i am using vs code\n",
      "46\n"
     ]
    }
   ],
   "source": [
    "#defining a function\n",
    "# 1st method\n",
    "#def print_codenics():\n",
    "    #print(\"we are learning python\")\n",
    "    #print(\"we are learning python\")\n",
    "    #print(\"we are learning python\")\n",
    "    \n",
    "#print_codenics()\n",
    "\n",
    "#2nd method\n",
    "def print_codenics():\n",
    "    text=\"i am using vs code\"\n",
    "    print(text)\n",
    "    print(text)\n",
    "    print(text)\n",
    "print_codenics()\n",
    "#3rd method\n",
    "#def print_codenics(text):\n",
    "    #print(text)\n",
    "    #print(text)\n",
    "    #print(text)\n",
    "#print_codenics(\"you are looking nice\")\n",
    "\n",
    "#defining a function with if,else and elif statment\n",
    "#def school_age_calculator(age):\n",
    " #if age==4:\n",
    "     #print(\"fajar can go to school\")\n",
    " #elif age>4:\n",
    "     #print(\"fajar should join higher school\")\n",
    " #else:\n",
    "     #print(\"fajar is still a baby\")\n",
    "\n",
    "#school_age_calculator(6)\n",
    "\n",
    "#defining a function of future\n",
    "def future_age(age):\n",
    "    new_age=age+31\n",
    "    return new_age\n",
    "\n",
    "future_predicted_age=future_age(15)\n",
    "print(future_predicted_age)\n",
    "\n"
   ]
  },
  {
   "cell_type": "markdown",
   "id": "e2e62758",
   "metadata": {},
   "source": [
    "### 11_loops"
   ]
  },
  {
   "cell_type": "code",
   "execution_count": 11,
   "id": "a049169e",
   "metadata": {},
   "outputs": [
    {
     "name": "stdout",
     "output_type": "stream",
     "text": [
      "1\n",
      "2\n",
      "3\n",
      "4\n",
      "mon\n",
      "tues\n"
     ]
    }
   ],
   "source": [
    "#types\n",
    "#1 while loops 2 for loops\n",
    "# while loops\n",
    "x=1\n",
    "while(x<5):\n",
    "    print(x)\n",
    "    x=x+1\n",
    "\n",
    "#for loops\n",
    "#for x in range(5,11):\n",
    "    #print(x)\n",
    "\n",
    "# to use it in program\n",
    "#array\n",
    "days=[\"mon\",\"tues\",\"wed\",\"thurs\",\"fri\"]\n",
    "for d in days:\n",
    "    if(d==\"wed\"):break\n",
    "    print(d)\n",
    "\n",
    "#days=[\"mon\",\"tues\",\"wed\",\"thurs\",\"fri\"]\n",
    "#for d in days:\n",
    "    #if(d==\"wed\"):continue\n",
    "    #print(d)\n"
   ]
  },
  {
   "cell_type": "markdown",
   "id": "a249cb4f",
   "metadata": {},
   "source": [
    "### 12_import_libraries"
   ]
  },
  {
   "cell_type": "code",
   "execution_count": 12,
   "id": "0052e849",
   "metadata": {},
   "outputs": [
    {
     "name": "stdout",
     "output_type": "stream",
     "text": [
      "the value of pi is 3.141592653589793\n",
      "422.25\n"
     ]
    }
   ],
   "source": [
    "#if you want to print the value of pi\n",
    "import math\n",
    "print(\"the value of pi is\",math.pi)\n",
    "\n",
    "import statistics\n",
    "x=[151,352,543,643]\n",
    "print(statistics.mean(x))\n",
    "\n",
    "\n",
    "#important libraries\n",
    "#numpy\n",
    "#pandas"
   ]
  },
  {
   "cell_type": "markdown",
   "id": "001c2567",
   "metadata": {},
   "source": [
    "### 13_trouble_shooting"
   ]
  },
  {
   "cell_type": "code",
   "execution_count": 13,
   "id": "703569d3",
   "metadata": {},
   "outputs": [
    {
     "name": "stdout",
     "output_type": "stream",
     "text": [
      "write something on  the board\n",
      "8.333333333333334\n",
      "hello  sonia\n"
     ]
    }
   ],
   "source": [
    "#syntax error\n",
    "#print(write something on the board)\n",
    "\n",
    "\n",
    "\n",
    "print(\"write something on  the board\")#right\n",
    "\n",
    "\n",
    "#mathmatical error/runtime error\n",
    "#print(25/0)\n",
    "print(25/3)#right\n",
    "\n",
    "#samentic error\n",
    "name=\"sonia\"\n",
    "#print(\"hello sonia\")\n",
    "print(\"hello \", name)#right"
   ]
  }
 ],
 "metadata": {
  "kernelspec": {
   "display_name": "Python 3 (ipykernel)",
   "language": "python",
   "name": "python3"
  },
  "language_info": {
   "codemirror_mode": {
    "name": "ipython",
    "version": 3
   },
   "file_extension": ".py",
   "mimetype": "text/x-python",
   "name": "python",
   "nbconvert_exporter": "python",
   "pygments_lexer": "ipython3",
   "version": "3.9.12"
  }
 },
 "nbformat": 4,
 "nbformat_minor": 5
}
