{
 "cells": [
  {
   "cell_type": "markdown",
   "id": "2b5472a0",
   "metadata": {},
   "source": [
    "# - Indexing"
   ]
  },
  {
   "cell_type": "code",
   "execution_count": 1,
   "id": "cf698044",
   "metadata": {},
   "outputs": [
    {
     "data": {
      "text/plain": [
       "'samosa pakora'"
      ]
     },
     "execution_count": 1,
     "metadata": {},
     "output_type": "execute_result"
    }
   ],
   "source": [
    "# make a string\n",
    "a=\"samosa pakora\"\n",
    "a"
   ]
  },
  {
   "cell_type": "code",
   "execution_count": 2,
   "id": "1ef1cc1b",
   "metadata": {},
   "outputs": [
    {
     "data": {
      "text/plain": [
       "'samosa pakora'"
      ]
     },
     "execution_count": 2,
     "metadata": {},
     "output_type": "execute_result"
    }
   ],
   "source": [
    "a"
   ]
  },
  {
   "cell_type": "code",
   "execution_count": 3,
   "id": "b700a730",
   "metadata": {},
   "outputs": [
    {
     "data": {
      "text/plain": [
       "13"
      ]
     },
     "execution_count": 3,
     "metadata": {},
     "output_type": "execute_result"
    }
   ],
   "source": [
    "#lenght of string\n",
    "len(a)"
   ]
  },
  {
   "cell_type": "code",
   "execution_count": 4,
   "id": "e7ce6840",
   "metadata": {},
   "outputs": [
    {
     "data": {
      "text/plain": [
       "'s'"
      ]
     },
     "execution_count": 4,
     "metadata": {},
     "output_type": "execute_result"
    }
   ],
   "source": [
    "a[4]"
   ]
  },
  {
   "cell_type": "code",
   "execution_count": 5,
   "id": "90566716",
   "metadata": {
    "scrolled": true
   },
   "outputs": [
    {
     "data": {
      "text/plain": [
       "'p'"
      ]
     },
     "execution_count": 5,
     "metadata": {},
     "output_type": "execute_result"
    }
   ],
   "source": [
    "a[7]"
   ]
  },
  {
   "cell_type": "code",
   "execution_count": 6,
   "id": "ec933c4e",
   "metadata": {},
   "outputs": [
    {
     "data": {
      "text/plain": [
       "'samosa'"
      ]
     },
     "execution_count": 6,
     "metadata": {},
     "output_type": "execute_result"
    }
   ],
   "source": [
    "# last index is exlusive\n",
    "a[0:6]"
   ]
  },
  {
   "cell_type": "code",
   "execution_count": 7,
   "id": "91e40994",
   "metadata": {},
   "outputs": [
    {
     "data": {
      "text/plain": [
       "'samosa pakora'"
      ]
     },
     "execution_count": 7,
     "metadata": {},
     "output_type": "execute_result"
    }
   ],
   "source": [
    "a[0:13]"
   ]
  },
  {
   "cell_type": "code",
   "execution_count": 8,
   "id": "7efb9cec",
   "metadata": {},
   "outputs": [
    {
     "data": {
      "text/plain": [
       "'a'"
      ]
     },
     "execution_count": 8,
     "metadata": {},
     "output_type": "execute_result"
    }
   ],
   "source": [
    "a[-1]"
   ]
  },
  {
   "cell_type": "code",
   "execution_count": 9,
   "id": "aa199495",
   "metadata": {},
   "outputs": [
    {
     "data": {
      "text/plain": [
       "'r'"
      ]
     },
     "execution_count": 9,
     "metadata": {},
     "output_type": "execute_result"
    }
   ],
   "source": [
    "a[-2]"
   ]
  },
  {
   "cell_type": "code",
   "execution_count": 10,
   "id": "cc038710",
   "metadata": {
    "scrolled": true
   },
   "outputs": [
    {
     "data": {
      "text/plain": [
       "'pakora'"
      ]
     },
     "execution_count": 10,
     "metadata": {},
     "output_type": "execute_result"
    }
   ],
   "source": [
    "a[-6:13]"
   ]
  },
  {
   "cell_type": "markdown",
   "id": "8d6ed33f",
   "metadata": {},
   "source": [
    "## string methods"
   ]
  },
  {
   "cell_type": "code",
   "execution_count": 11,
   "id": "6f229e57",
   "metadata": {},
   "outputs": [
    {
     "data": {
      "text/plain": [
       "'biryani'"
      ]
     },
     "execution_count": 11,
     "metadata": {},
     "output_type": "execute_result"
    }
   ],
   "source": [
    "food=\"biryani\"\n",
    "food"
   ]
  },
  {
   "cell_type": "code",
   "execution_count": 12,
   "id": "1d2e5713",
   "metadata": {},
   "outputs": [
    {
     "data": {
      "text/plain": [
       "7"
      ]
     },
     "execution_count": 12,
     "metadata": {},
     "output_type": "execute_result"
    }
   ],
   "source": [
    "len(food)"
   ]
  },
  {
   "cell_type": "code",
   "execution_count": 13,
   "id": "7a246623",
   "metadata": {},
   "outputs": [
    {
     "data": {
      "text/plain": [
       "'Biryani'"
      ]
     },
     "execution_count": 13,
     "metadata": {},
     "output_type": "execute_result"
    }
   ],
   "source": [
    "food.capitalize()"
   ]
  },
  {
   "cell_type": "code",
   "execution_count": 14,
   "id": "7044b180",
   "metadata": {},
   "outputs": [
    {
     "data": {
      "text/plain": [
       "'biryani'"
      ]
     },
     "execution_count": 14,
     "metadata": {},
     "output_type": "execute_result"
    }
   ],
   "source": [
    "food.casefold()"
   ]
  },
  {
   "cell_type": "code",
   "execution_count": 15,
   "id": "0007f37f",
   "metadata": {},
   "outputs": [
    {
     "data": {
      "text/plain": [
       "'BIRYANI'"
      ]
     },
     "execution_count": 15,
     "metadata": {},
     "output_type": "execute_result"
    }
   ],
   "source": [
    "food.upper()"
   ]
  },
  {
   "cell_type": "code",
   "execution_count": 16,
   "id": "1e8ed067",
   "metadata": {},
   "outputs": [
    {
     "data": {
      "text/plain": [
       "'biryani'"
      ]
     },
     "execution_count": 16,
     "metadata": {},
     "output_type": "execute_result"
    }
   ],
   "source": [
    "food.lower()"
   ]
  },
  {
   "cell_type": "code",
   "execution_count": 17,
   "id": "a08fa2e0",
   "metadata": {},
   "outputs": [
    {
     "data": {
      "text/plain": [
       "'shiryani'"
      ]
     },
     "execution_count": 17,
     "metadata": {},
     "output_type": "execute_result"
    }
   ],
   "source": [
    "food.replace(\"b\",\"sh\")"
   ]
  },
  {
   "cell_type": "code",
   "execution_count": 18,
   "id": "823fb3dd",
   "metadata": {},
   "outputs": [
    {
     "data": {
      "text/plain": [
       "'sonia is learning python'"
      ]
     },
     "execution_count": 18,
     "metadata": {},
     "output_type": "execute_result"
    }
   ],
   "source": [
    "# counting a specific alphabets in a string\n",
    "name= \"sonia is learning python\"\n",
    "name"
   ]
  },
  {
   "cell_type": "code",
   "execution_count": 19,
   "id": "f5257c61",
   "metadata": {},
   "outputs": [
    {
     "data": {
      "text/plain": [
       "2"
      ]
     },
     "execution_count": 19,
     "metadata": {},
     "output_type": "execute_result"
    }
   ],
   "source": [
    "name.count(\"a\")"
   ]
  },
  {
   "cell_type": "code",
   "execution_count": 20,
   "id": "a6c0629f",
   "metadata": {
    "scrolled": true
   },
   "outputs": [
    {
     "data": {
      "text/plain": [
       "4"
      ]
     },
     "execution_count": 20,
     "metadata": {},
     "output_type": "execute_result"
    }
   ],
   "source": [
    "name.count(\"n\")"
   ]
  },
  {
   "cell_type": "markdown",
   "id": "8045290d",
   "metadata": {},
   "source": [
    "### finding an index number in string"
   ]
  },
  {
   "cell_type": "code",
   "execution_count": 21,
   "id": "9c83fbcd",
   "metadata": {},
   "outputs": [
    {
     "data": {
      "text/plain": [
       "'sonia is learning python'"
      ]
     },
     "execution_count": 21,
     "metadata": {},
     "output_type": "execute_result"
    }
   ],
   "source": [
    "name= \"sonia is learning python\"\n",
    "name"
   ]
  },
  {
   "cell_type": "code",
   "execution_count": 22,
   "id": "c35d6115",
   "metadata": {},
   "outputs": [
    {
     "data": {
      "text/plain": [
       "0"
      ]
     },
     "execution_count": 22,
     "metadata": {},
     "output_type": "execute_result"
    }
   ],
   "source": [
    "name.find(\"s\")"
   ]
  },
  {
   "cell_type": "code",
   "execution_count": 23,
   "id": "ad269231",
   "metadata": {},
   "outputs": [
    {
     "data": {
      "text/plain": [
       "18"
      ]
     },
     "execution_count": 23,
     "metadata": {},
     "output_type": "execute_result"
    }
   ],
   "source": [
    "name.find(\"p\")"
   ]
  },
  {
   "cell_type": "markdown",
   "id": "6199001d",
   "metadata": {},
   "source": [
    "### how to split a string"
   ]
  },
  {
   "cell_type": "code",
   "execution_count": 24,
   "id": "98cd0c51",
   "metadata": {},
   "outputs": [
    {
     "data": {
      "text/plain": [
       "'i love samosa,pakora,biryani,pizza'"
      ]
     },
     "execution_count": 24,
     "metadata": {},
     "output_type": "execute_result"
    }
   ],
   "source": [
    "food= \"i love samosa,pakora,biryani,pizza\"\n",
    "food"
   ]
  },
  {
   "cell_type": "code",
   "execution_count": 25,
   "id": "76d26936",
   "metadata": {},
   "outputs": [
    {
     "data": {
      "text/plain": [
       "['i love samosa', 'pakora', 'biryani', 'pizza']"
      ]
     },
     "execution_count": 25,
     "metadata": {},
     "output_type": "execute_result"
    }
   ],
   "source": [
    "food.split(\",\")"
   ]
  },
  {
   "cell_type": "markdown",
   "id": "838a6925",
   "metadata": {},
   "source": [
    "# - Basic data structure in python\n",
    "1 - tuple\n",
    "\n",
    "2 - dictionaries\n",
    "\n",
    "3 - list\n",
    "\n",
    "4 - set"
   ]
  },
  {
   "cell_type": "markdown",
   "id": "cf4fbfc4",
   "metadata": {},
   "source": [
    "## tuple\n",
    "- ordard collection of elements\n",
    "\n",
    "- enclosed in() round braces/ parnthesis\n",
    "\n",
    "- different kind of element can be stored\n",
    "\n",
    "- once element can be stored it cannot be changed/ unmutatable"
   ]
  },
  {
   "cell_type": "code",
   "execution_count": 26,
   "id": "90a7e37e",
   "metadata": {},
   "outputs": [
    {
     "data": {
      "text/plain": [
       "(3, 'Sonia', 'true', 2.2)"
      ]
     },
     "execution_count": 26,
     "metadata": {},
     "output_type": "execute_result"
    }
   ],
   "source": [
    "tup1=(3, \"Sonia\" ,\"true\", 2.2)\n",
    "tup1"
   ]
  },
  {
   "cell_type": "code",
   "execution_count": 27,
   "id": "1d38306f",
   "metadata": {},
   "outputs": [
    {
     "data": {
      "text/plain": [
       "tuple"
      ]
     },
     "execution_count": 27,
     "metadata": {},
     "output_type": "execute_result"
    }
   ],
   "source": [
    "type(tup1)"
   ]
  },
  {
   "cell_type": "markdown",
   "id": "14d3285c",
   "metadata": {},
   "source": [
    "### Indexing in tupel"
   ]
  },
  {
   "cell_type": "code",
   "execution_count": 28,
   "id": "e5375806",
   "metadata": {},
   "outputs": [
    {
     "data": {
      "text/plain": [
       "4"
      ]
     },
     "execution_count": 28,
     "metadata": {},
     "output_type": "execute_result"
    }
   ],
   "source": [
    "len(tup1)"
   ]
  },
  {
   "cell_type": "code",
   "execution_count": 29,
   "id": "d3587dd9",
   "metadata": {},
   "outputs": [
    {
     "data": {
      "text/plain": [
       "'true'"
      ]
     },
     "execution_count": 29,
     "metadata": {},
     "output_type": "execute_result"
    }
   ],
   "source": [
    "tup1[2]"
   ]
  },
  {
   "cell_type": "code",
   "execution_count": 30,
   "id": "ff0a32c4",
   "metadata": {},
   "outputs": [
    {
     "data": {
      "text/plain": [
       "'Sonia'"
      ]
     },
     "execution_count": 30,
     "metadata": {},
     "output_type": "execute_result"
    }
   ],
   "source": [
    "tup1[1]"
   ]
  },
  {
   "cell_type": "code",
   "execution_count": 31,
   "id": "d50c19e6",
   "metadata": {},
   "outputs": [
    {
     "data": {
      "text/plain": [
       "(3, 'Sonia', 'true', 2.2)"
      ]
     },
     "execution_count": 31,
     "metadata": {},
     "output_type": "execute_result"
    }
   ],
   "source": [
    "tup1[0:4]"
   ]
  },
  {
   "cell_type": "code",
   "execution_count": 32,
   "id": "8842b44e",
   "metadata": {},
   "outputs": [
    {
     "data": {
      "text/plain": [
       "(3, 'right', 'wrong', 5.5, 'sixty')"
      ]
     },
     "execution_count": 32,
     "metadata": {},
     "output_type": "execute_result"
    }
   ],
   "source": [
    "tup2=(3, \"right\", \"wrong\", 5.5, \"sixty\")\n",
    "tup2"
   ]
  },
  {
   "cell_type": "code",
   "execution_count": 33,
   "id": "097b0150",
   "metadata": {},
   "outputs": [
    {
     "data": {
      "text/plain": [
       "(3, 'Sonia', 'true', 2.2, 3, 'right', 'wrong', 5.5, 'sixty')"
      ]
     },
     "execution_count": 33,
     "metadata": {},
     "output_type": "execute_result"
    }
   ],
   "source": [
    "#concatenate(to add two tuples or more than two)\n",
    "tup1 + tup2"
   ]
  },
  {
   "cell_type": "code",
   "execution_count": 34,
   "id": "42145cf2",
   "metadata": {},
   "outputs": [
    {
     "data": {
      "text/plain": [
       "(3,\n",
       " 'Sonia',\n",
       " 'true',\n",
       " 2.2,\n",
       " 3,\n",
       " 'Sonia',\n",
       " 'true',\n",
       " 2.2,\n",
       " 3,\n",
       " 'right',\n",
       " 'wrong',\n",
       " 5.5,\n",
       " 'sixty')"
      ]
     },
     "execution_count": 34,
     "metadata": {},
     "output_type": "execute_result"
    }
   ],
   "source": [
    "#concatenate+repeat\n",
    "tup1*2+tup2"
   ]
  },
  {
   "cell_type": "code",
   "execution_count": 35,
   "id": "ffce9705",
   "metadata": {},
   "outputs": [
    {
     "data": {
      "text/plain": [
       "(21, 32, 45, 64, 53)"
      ]
     },
     "execution_count": 35,
     "metadata": {},
     "output_type": "execute_result"
    }
   ],
   "source": [
    "tup3=(21, 32, 45, 64, 53)\n",
    "tup3"
   ]
  },
  {
   "cell_type": "code",
   "execution_count": 36,
   "id": "9d493bcb",
   "metadata": {},
   "outputs": [
    {
     "data": {
      "text/plain": [
       "21"
      ]
     },
     "execution_count": 36,
     "metadata": {},
     "output_type": "execute_result"
    }
   ],
   "source": [
    "min(tup3)"
   ]
  },
  {
   "cell_type": "code",
   "execution_count": 37,
   "id": "f6743b26",
   "metadata": {},
   "outputs": [
    {
     "data": {
      "text/plain": [
       "64"
      ]
     },
     "execution_count": 37,
     "metadata": {},
     "output_type": "execute_result"
    }
   ],
   "source": [
    "max(tup3)"
   ]
  },
  {
   "cell_type": "code",
   "execution_count": 38,
   "id": "80be3fe2",
   "metadata": {},
   "outputs": [
    {
     "data": {
      "text/plain": [
       "(21, 32, 45, 64, 53, 21, 32, 45, 64, 53)"
      ]
     },
     "execution_count": 38,
     "metadata": {},
     "output_type": "execute_result"
    }
   ],
   "source": [
    "tup3*2"
   ]
  },
  {
   "cell_type": "markdown",
   "id": "8a06cc16",
   "metadata": {},
   "source": [
    "---"
   ]
  },
  {
   "cell_type": "markdown",
   "id": "180e9af4",
   "metadata": {},
   "source": [
    "## lists\n",
    "- ordard collection of elements\n",
    "\n",
    "- encolsed in [] square braces/brakets\n",
    "\n",
    "- mutatable/ elements can be changed"
   ]
  },
  {
   "cell_type": "code",
   "execution_count": 39,
   "id": "4d7a3681",
   "metadata": {},
   "outputs": [
    {
     "data": {
      "text/plain": [
       "[2, 'find', 'high', 5.4]"
      ]
     },
     "execution_count": 39,
     "metadata": {},
     "output_type": "execute_result"
    }
   ],
   "source": [
    "list1=[2,\"find\", \"high\", 5.4]\n",
    "list1"
   ]
  },
  {
   "cell_type": "code",
   "execution_count": 40,
   "id": "1ee32f1d",
   "metadata": {},
   "outputs": [
    {
     "data": {
      "text/plain": [
       "list"
      ]
     },
     "execution_count": 40,
     "metadata": {},
     "output_type": "execute_result"
    }
   ],
   "source": [
    "type(list1)"
   ]
  },
  {
   "cell_type": "code",
   "execution_count": 41,
   "id": "10514317",
   "metadata": {},
   "outputs": [
    {
     "data": {
      "text/plain": [
       "4"
      ]
     },
     "execution_count": 41,
     "metadata": {},
     "output_type": "execute_result"
    }
   ],
   "source": [
    "len(list1)"
   ]
  },
  {
   "cell_type": "code",
   "execution_count": 42,
   "id": "72853bd5",
   "metadata": {},
   "outputs": [
    {
     "data": {
      "text/plain": [
       "'high'"
      ]
     },
     "execution_count": 42,
     "metadata": {},
     "output_type": "execute_result"
    }
   ],
   "source": [
    "list1[2]"
   ]
  },
  {
   "cell_type": "code",
   "execution_count": 43,
   "id": "22d705a2",
   "metadata": {},
   "outputs": [
    {
     "data": {
      "text/plain": [
       "['question', 'wrong', 3, 'true', 'replace']"
      ]
     },
     "execution_count": 43,
     "metadata": {},
     "output_type": "execute_result"
    }
   ],
   "source": [
    "list2=[\"question\", \"wrong\", 3, \"true\", \"replace\"]\n",
    "list2"
   ]
  },
  {
   "cell_type": "code",
   "execution_count": 44,
   "id": "31d9129d",
   "metadata": {},
   "outputs": [
    {
     "data": {
      "text/plain": [
       "[2, 'find', 'high', 5.4, 'question', 'wrong', 3, 'true', 'replace']"
      ]
     },
     "execution_count": 44,
     "metadata": {},
     "output_type": "execute_result"
    }
   ],
   "source": [
    "list1+list2"
   ]
  },
  {
   "cell_type": "code",
   "execution_count": 45,
   "id": "bc4f7e97",
   "metadata": {
    "scrolled": true
   },
   "outputs": [
    {
     "data": {
      "text/plain": [
       "[2,\n",
       " 'find',\n",
       " 'high',\n",
       " 5.4,\n",
       " 2,\n",
       " 'find',\n",
       " 'high',\n",
       " 5.4,\n",
       " 'question',\n",
       " 'wrong',\n",
       " 3,\n",
       " 'true',\n",
       " 'replace']"
      ]
     },
     "execution_count": 45,
     "metadata": {},
     "output_type": "execute_result"
    }
   ],
   "source": [
    "list1*2+list2"
   ]
  },
  {
   "cell_type": "code",
   "execution_count": 46,
   "id": "731a98f8",
   "metadata": {},
   "outputs": [
    {
     "data": {
      "text/plain": [
       "[2, 'find', 'high', 5.4]"
      ]
     },
     "execution_count": 46,
     "metadata": {},
     "output_type": "execute_result"
    }
   ],
   "source": [
    "list1=[2,\"find\", \"high\", 5.4]\n",
    "list1"
   ]
  },
  {
   "cell_type": "code",
   "execution_count": 47,
   "id": "cb0aea2d",
   "metadata": {},
   "outputs": [
    {
     "data": {
      "text/plain": [
       "[5.4, 'high', 'find', 2]"
      ]
     },
     "execution_count": 47,
     "metadata": {},
     "output_type": "execute_result"
    }
   ],
   "source": [
    "list1.reverse()\n",
    "list1"
   ]
  },
  {
   "cell_type": "code",
   "execution_count": 48,
   "id": "551a32da",
   "metadata": {},
   "outputs": [
    {
     "data": {
      "text/plain": [
       "[5.4, 'high', 'find', 2, 'cutie pie']"
      ]
     },
     "execution_count": 48,
     "metadata": {},
     "output_type": "execute_result"
    }
   ],
   "source": [
    "list1.append(\"cutie pie\")\n",
    "list1"
   ]
  },
  {
   "cell_type": "code",
   "execution_count": 49,
   "id": "b91e785d",
   "metadata": {},
   "outputs": [
    {
     "data": {
      "text/plain": [
       "[5.4, 'high', 'find', 2, 'cutie pie']"
      ]
     },
     "execution_count": 49,
     "metadata": {},
     "output_type": "execute_result"
    }
   ],
   "source": [
    "list1.copy()\n",
    "list1"
   ]
  },
  {
   "cell_type": "code",
   "execution_count": 50,
   "id": "6932a4e4",
   "metadata": {},
   "outputs": [
    {
     "data": {
      "text/plain": [
       "1"
      ]
     },
     "execution_count": 50,
     "metadata": {},
     "output_type": "execute_result"
    }
   ],
   "source": [
    "list1.count(\"high\")\n"
   ]
  },
  {
   "cell_type": "code",
   "execution_count": 51,
   "id": "3a534558",
   "metadata": {},
   "outputs": [
    {
     "data": {
      "text/plain": [
       "[5.4, 'high', 'find', 2, 'cutie pie', 'h', 'i', 'g', 'h']"
      ]
     },
     "execution_count": 51,
     "metadata": {},
     "output_type": "execute_result"
    }
   ],
   "source": [
    "list1.extend(\"high\")\n",
    "list1"
   ]
  },
  {
   "cell_type": "code",
   "execution_count": 52,
   "id": "c21f02db",
   "metadata": {},
   "outputs": [
    {
     "data": {
      "text/plain": [
       "[5.4, 'high', 'find', 2, 'cutie pie', 'h', 'i', 'g']"
      ]
     },
     "execution_count": 52,
     "metadata": {},
     "output_type": "execute_result"
    }
   ],
   "source": [
    "list1.pop()\n",
    "list1"
   ]
  },
  {
   "cell_type": "code",
   "execution_count": 53,
   "id": "7d25b4ae",
   "metadata": {},
   "outputs": [
    {
     "data": {
      "text/plain": [
       "[21, 56, 11, 45, 0.54, 34]"
      ]
     },
     "execution_count": 53,
     "metadata": {},
     "output_type": "execute_result"
    }
   ],
   "source": [
    "list3=[21,56,11,45,.54,34]\n",
    "list3"
   ]
  },
  {
   "cell_type": "code",
   "execution_count": 54,
   "id": "578761c3",
   "metadata": {},
   "outputs": [
    {
     "data": {
      "text/plain": [
       "[0.54, 11, 21, 34, 45, 56]"
      ]
     },
     "execution_count": 54,
     "metadata": {},
     "output_type": "execute_result"
    }
   ],
   "source": [
    "list3.sort()\n",
    "list3"
   ]
  },
  {
   "cell_type": "code",
   "execution_count": 55,
   "id": "b5f7b3ae",
   "metadata": {},
   "outputs": [
    {
     "data": {
      "text/plain": [
       "[0.54, 11, 21, 34, 45, 56]"
      ]
     },
     "execution_count": 55,
     "metadata": {},
     "output_type": "execute_result"
    }
   ],
   "source": [
    "list3.copy()"
   ]
  },
  {
   "cell_type": "code",
   "execution_count": 56,
   "id": "ec89c4fa",
   "metadata": {},
   "outputs": [
    {
     "data": {
      "text/plain": [
       "[5.4,\n",
       " 'high',\n",
       " 'find',\n",
       " 2,\n",
       " 'cutie pie',\n",
       " 'h',\n",
       " 'i',\n",
       " 'g',\n",
       " 'question',\n",
       " 'wrong',\n",
       " 3,\n",
       " 'true',\n",
       " 'replace',\n",
       " 0.54,\n",
       " 11,\n",
       " 21,\n",
       " 34,\n",
       " 45,\n",
       " 56]"
      ]
     },
     "execution_count": 56,
     "metadata": {},
     "output_type": "execute_result"
    }
   ],
   "source": [
    "lists=list1+list2+list3\n",
    "lists"
   ]
  },
  {
   "cell_type": "markdown",
   "id": "7165ecdf",
   "metadata": {},
   "source": [
    "# Dictionaries\n",
    "- unordard collection of elements\n",
    "\n",
    "- mutatable/values can be changed\n",
    "\n",
    "- keys and values\n",
    "\n",
    "- curly braces/brakets{}"
   ]
  },
  {
   "cell_type": "code",
   "execution_count": 57,
   "id": "8a79a181",
   "metadata": {},
   "outputs": [
    {
     "data": {
      "text/plain": [
       "{'samosa': 25, 'pakory': 65, 'jalebi': 55, 'raita': 35}"
      ]
     },
     "execution_count": 57,
     "metadata": {},
     "output_type": "execute_result"
    }
   ],
   "source": [
    "food1= {\"samosa\":25, \"pakory\":65, \"jalebi\":55, \"raita\":35}\n",
    "food1"
   ]
  },
  {
   "cell_type": "code",
   "execution_count": 58,
   "id": "1bbd1a75",
   "metadata": {},
   "outputs": [
    {
     "data": {
      "text/plain": [
       "dict"
      ]
     },
     "execution_count": 58,
     "metadata": {},
     "output_type": "execute_result"
    }
   ],
   "source": [
    "type(food1)"
   ]
  },
  {
   "cell_type": "code",
   "execution_count": 59,
   "id": "5e76feda",
   "metadata": {},
   "outputs": [
    {
     "data": {
      "text/plain": [
       "dict_keys(['samosa', 'pakory', 'jalebi', 'raita'])"
      ]
     },
     "execution_count": 59,
     "metadata": {},
     "output_type": "execute_result"
    }
   ],
   "source": [
    "#extract keys\n",
    "food1.keys()"
   ]
  },
  {
   "cell_type": "code",
   "execution_count": 60,
   "id": "8be16790",
   "metadata": {},
   "outputs": [
    {
     "data": {
      "text/plain": [
       "dict_values([25, 65, 55, 35])"
      ]
     },
     "execution_count": 60,
     "metadata": {},
     "output_type": "execute_result"
    }
   ],
   "source": [
    "#extract values\n",
    "food1.values()"
   ]
  },
  {
   "cell_type": "code",
   "execution_count": 61,
   "id": "773b6fc3",
   "metadata": {},
   "outputs": [
    {
     "data": {
      "text/plain": [
       "{'samosa': 25, 'pakory': 65, 'jalebi': 55, 'raita': 35, 'biryani': 445}"
      ]
     },
     "execution_count": 61,
     "metadata": {},
     "output_type": "execute_result"
    }
   ],
   "source": [
    "#add element\n",
    "food1[\"biryani\"]=445\n",
    "food1"
   ]
  },
  {
   "cell_type": "code",
   "execution_count": 62,
   "id": "7f8cd16b",
   "metadata": {},
   "outputs": [
    {
     "data": {
      "text/plain": [
       "{'samosa': 25, 'pakory': 50, 'jalebi': 55, 'raita': 35, 'biryani': 445}"
      ]
     },
     "execution_count": 62,
     "metadata": {},
     "output_type": "execute_result"
    }
   ],
   "source": [
    "#update values\n",
    "food1[\"pakory\"]=50\n",
    "food1"
   ]
  },
  {
   "cell_type": "code",
   "execution_count": 63,
   "id": "ebc9fabc",
   "metadata": {},
   "outputs": [
    {
     "data": {
      "text/plain": [
       "{'chocolates': 100, 'bread': 65}"
      ]
     },
     "execution_count": 63,
     "metadata": {},
     "output_type": "execute_result"
    }
   ],
   "source": [
    "food2={\"chocolates\":100, \"bread\":65}\n",
    "food2"
   ]
  },
  {
   "cell_type": "code",
   "execution_count": 64,
   "id": "35f65f5f",
   "metadata": {},
   "outputs": [
    {
     "data": {
      "text/plain": [
       "{'samosa': 25,\n",
       " 'pakory': 50,\n",
       " 'jalebi': 55,\n",
       " 'raita': 35,\n",
       " 'biryani': 445,\n",
       " 'chocolates': 100,\n",
       " 'bread': 65}"
      ]
     },
     "execution_count": 64,
     "metadata": {},
     "output_type": "execute_result"
    }
   ],
   "source": [
    "#concatenate\n",
    "food1.update(food2)\n",
    "food1"
   ]
  },
  {
   "cell_type": "code",
   "execution_count": 65,
   "id": "d4526f00",
   "metadata": {},
   "outputs": [
    {
     "data": {
      "text/plain": [
       "{'samosa': 25,\n",
       " 'pakory': 50,\n",
       " 'jalebi': 55,\n",
       " 'raita': 35,\n",
       " 'biryani': 445,\n",
       " 'chocolates': 100,\n",
       " 'bread': 65}"
      ]
     },
     "execution_count": 65,
     "metadata": {},
     "output_type": "execute_result"
    }
   ],
   "source": [
    "food1.get(\"samosa\",[25])\n",
    "food1"
   ]
  },
  {
   "cell_type": "code",
   "execution_count": 66,
   "id": "9fea3878",
   "metadata": {},
   "outputs": [
    {
     "data": {
      "text/plain": [
       "dict_items([('samosa', 25), ('pakory', 50), ('jalebi', 55), ('raita', 35), ('biryani', 445), ('chocolates', 100), ('bread', 65)])"
      ]
     },
     "execution_count": 66,
     "metadata": {},
     "output_type": "execute_result"
    }
   ],
   "source": [
    "food1.items()"
   ]
  },
  {
   "cell_type": "code",
   "execution_count": 67,
   "id": "9faf42c0",
   "metadata": {},
   "outputs": [
    {
     "data": {
      "text/plain": [
       "35"
      ]
     },
     "execution_count": 67,
     "metadata": {},
     "output_type": "execute_result"
    }
   ],
   "source": [
    "food1.pop(\"raita\",[35])"
   ]
  },
  {
   "cell_type": "code",
   "execution_count": 68,
   "id": "a8850df3",
   "metadata": {},
   "outputs": [
    {
     "data": {
      "text/plain": [
       "('bread', 65)"
      ]
     },
     "execution_count": 68,
     "metadata": {},
     "output_type": "execute_result"
    }
   ],
   "source": [
    "food1.popitem()"
   ]
  },
  {
   "cell_type": "markdown",
   "id": "09f0b65c",
   "metadata": {},
   "source": [
    "# Sets\n",
    "- an unordard collection of elements\n",
    "\n",
    "- curly braces are used{}\n",
    "\n",
    "- no duplicates are allowed"
   ]
  },
  {
   "cell_type": "code",
   "execution_count": 69,
   "id": "9eca0aaa",
   "metadata": {},
   "outputs": [
    {
     "data": {
      "text/plain": [
       "{3, 34, 6.6, True, 'false', 'sonia'}"
      ]
     },
     "execution_count": 69,
     "metadata": {},
     "output_type": "execute_result"
    }
   ],
   "source": [
    "s1= {3, 6.6, 34, \"sonia\", True, \"false\"}\n",
    "s1"
   ]
  },
  {
   "cell_type": "code",
   "execution_count": 70,
   "id": "e97b3ae9",
   "metadata": {},
   "outputs": [
    {
     "data": {
      "text/plain": [
       "{3, 34, 6.6, True, 'false', 'g', 'h', 'i', 'r', 'sonia', 't'}"
      ]
     },
     "execution_count": 70,
     "metadata": {},
     "output_type": "execute_result"
    }
   ],
   "source": [
    "s1.update(\"right\")\n",
    "s1"
   ]
  },
  {
   "cell_type": "code",
   "execution_count": 71,
   "id": "228a49b5",
   "metadata": {},
   "outputs": [
    {
     "data": {
      "text/plain": [
       "{3, 34, 43, 6.6, True, 'false', 'g', 'h', 'i', 'r', 'sonia', 't'}"
      ]
     },
     "execution_count": 71,
     "metadata": {},
     "output_type": "execute_result"
    }
   ],
   "source": [
    "s1.add(43)\n",
    "s1"
   ]
  },
  {
   "cell_type": "code",
   "execution_count": 72,
   "id": "d9ce523c",
   "metadata": {},
   "outputs": [
    {
     "data": {
      "text/plain": [
       "{3, 34, 43, True, 'false', 'g', 'h', 'i', 'r', 'sonia', 't'}"
      ]
     },
     "execution_count": 72,
     "metadata": {},
     "output_type": "execute_result"
    }
   ],
   "source": [
    "s1.remove(6.6)\n",
    "s1"
   ]
  },
  {
   "cell_type": "code",
   "execution_count": 73,
   "id": "c6d05ec5",
   "metadata": {},
   "outputs": [
    {
     "data": {
      "text/plain": [
       "{3, 34, 65}"
      ]
     },
     "execution_count": 73,
     "metadata": {},
     "output_type": "execute_result"
    }
   ],
   "source": [
    "s2={3, 34, 65}\n",
    "s2"
   ]
  },
  {
   "cell_type": "code",
   "execution_count": 74,
   "id": "ae3e3ce1",
   "metadata": {},
   "outputs": [
    {
     "data": {
      "text/plain": [
       "{43, True, 'false', 'g', 'h', 'i', 'r', 'sonia', 't'}"
      ]
     },
     "execution_count": 74,
     "metadata": {},
     "output_type": "execute_result"
    }
   ],
   "source": [
    "s1.difference(s2)"
   ]
  },
  {
   "cell_type": "code",
   "execution_count": 75,
   "id": "a215e2df",
   "metadata": {},
   "outputs": [
    {
     "data": {
      "text/plain": [
       "{43, True, 'false', 'g', 'h', 'i', 'r', 'sonia', 't'}"
      ]
     },
     "execution_count": 75,
     "metadata": {},
     "output_type": "execute_result"
    }
   ],
   "source": [
    "s1.difference_update(s2)\n",
    "s1"
   ]
  },
  {
   "cell_type": "code",
   "execution_count": 76,
   "id": "bd8bd7db",
   "metadata": {},
   "outputs": [
    {
     "data": {
      "text/plain": [
       "{True, 'false', 'g', 'h', 'i', 'r', 'sonia', 't'}"
      ]
     },
     "execution_count": 76,
     "metadata": {},
     "output_type": "execute_result"
    }
   ],
   "source": [
    "s1.discard(43)\n",
    "s1"
   ]
  },
  {
   "cell_type": "code",
   "execution_count": 81,
   "id": "f0720746",
   "metadata": {},
   "outputs": [
    {
     "data": {
      "text/plain": [
       "{3, 34, 65}"
      ]
     },
     "execution_count": 81,
     "metadata": {},
     "output_type": "execute_result"
    }
   ],
   "source": [
    "s2={3, 34, 65}\n",
    "s2"
   ]
  },
  {
   "cell_type": "code",
   "execution_count": 84,
   "id": "cdb15543",
   "metadata": {
    "scrolled": true
   },
   "outputs": [
    {
     "data": {
      "text/plain": [
       "set()"
      ]
     },
     "execution_count": 84,
     "metadata": {},
     "output_type": "execute_result"
    }
   ],
   "source": [
    "s1.intersection()"
   ]
  },
  {
   "cell_type": "code",
   "execution_count": 83,
   "id": "a8da0171",
   "metadata": {},
   "outputs": [
    {
     "data": {
      "text/plain": [
       "set()"
      ]
     },
     "execution_count": 83,
     "metadata": {},
     "output_type": "execute_result"
    }
   ],
   "source": [
    "s1.intersection_update(s2)\n",
    "s1"
   ]
  },
  {
   "cell_type": "code",
   "execution_count": null,
   "id": "2e96e325",
   "metadata": {},
   "outputs": [],
   "source": []
  }
 ],
 "metadata": {
  "kernelspec": {
   "display_name": "Python 3 (ipykernel)",
   "language": "python",
   "name": "python3"
  },
  "language_info": {
   "codemirror_mode": {
    "name": "ipython",
    "version": 3
   },
   "file_extension": ".py",
   "mimetype": "text/x-python",
   "name": "python",
   "nbconvert_exporter": "python",
   "pygments_lexer": "ipython3",
   "version": "3.9.12"
  }
 },
 "nbformat": 4,
 "nbformat_minor": 5
}
