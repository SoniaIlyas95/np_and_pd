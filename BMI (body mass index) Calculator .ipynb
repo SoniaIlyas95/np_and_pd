{
 "cells": [
  {
   "cell_type": "markdown",
   "id": "33bbf6b5",
   "metadata": {},
   "source": [
    "# Body mass index\n",
    "- input your height in meters\n",
    "\n",
    "- input your weight in kg\n",
    "\n",
    "- BMI(ask yourself your height)\n",
    "\n",
    "- BMI(ask yourself your weight)\n",
    "\n",
    "- caculate BMI\n",
    "\n",
    "- print BMI(\"my name is---\" , \"my BMI is---\")"
   ]
  },
  {
   "cell_type": "markdown",
   "id": "0f16709b",
   "metadata": {},
   "source": [
    "## Formula\n",
    "- weight in kg/height in meters and its square"
   ]
  },
  {
   "cell_type": "code",
   "execution_count": 1,
   "id": "347b5ef1",
   "metadata": {},
   "outputs": [
    {
     "name": "stdout",
     "output_type": "stream",
     "text": [
      "what is your height?1.57\n"
     ]
    }
   ],
   "source": [
    "height=input(\"what is your height?\")"
   ]
  },
  {
   "cell_type": "code",
   "execution_count": 2,
   "id": "e1e67501",
   "metadata": {},
   "outputs": [
    {
     "data": {
      "text/plain": [
       "str"
      ]
     },
     "execution_count": 2,
     "metadata": {},
     "output_type": "execute_result"
    }
   ],
   "source": [
    "type(height)"
   ]
  },
  {
   "cell_type": "code",
   "execution_count": 3,
   "id": "a2cc17df",
   "metadata": {},
   "outputs": [
    {
     "data": {
      "text/plain": [
       "1.57"
      ]
     },
     "execution_count": 3,
     "metadata": {},
     "output_type": "execute_result"
    }
   ],
   "source": [
    "height=float(height)\n",
    "height"
   ]
  },
  {
   "cell_type": "code",
   "execution_count": 4,
   "id": "59610d53",
   "metadata": {},
   "outputs": [
    {
     "name": "stdout",
     "output_type": "stream",
     "text": [
      "what is your weight?52\n"
     ]
    }
   ],
   "source": [
    "weight= input(\"what is your weight?\")"
   ]
  },
  {
   "cell_type": "code",
   "execution_count": 5,
   "id": "448e07fb",
   "metadata": {},
   "outputs": [
    {
     "data": {
      "text/plain": [
       "str"
      ]
     },
     "execution_count": 5,
     "metadata": {},
     "output_type": "execute_result"
    }
   ],
   "source": [
    "type(weight)"
   ]
  },
  {
   "cell_type": "code",
   "execution_count": 6,
   "id": "6f5002d2",
   "metadata": {},
   "outputs": [
    {
     "data": {
      "text/plain": [
       "52.0"
      ]
     },
     "execution_count": 6,
     "metadata": {},
     "output_type": "execute_result"
    }
   ],
   "source": [
    "weight=float(weight)\n",
    "weight"
   ]
  },
  {
   "cell_type": "code",
   "execution_count": 7,
   "id": "72d3a0a6",
   "metadata": {},
   "outputs": [
    {
     "name": "stdout",
     "output_type": "stream",
     "text": [
      "what is your name?sonia\n"
     ]
    }
   ],
   "source": [
    "name= input(\"what is your name?\")"
   ]
  },
  {
   "cell_type": "code",
   "execution_count": 8,
   "id": "ccc45e92",
   "metadata": {},
   "outputs": [
    {
     "data": {
      "text/plain": [
       "21.096190514828187"
      ]
     },
     "execution_count": 8,
     "metadata": {},
     "output_type": "execute_result"
    }
   ],
   "source": [
    "BMI=weight/height**2\n",
    "BMI"
   ]
  },
  {
   "cell_type": "code",
   "execution_count": 9,
   "id": "d722df89",
   "metadata": {},
   "outputs": [
    {
     "name": "stdout",
     "output_type": "stream",
     "text": [
      "my name is sonia my BMI is 21.096190514828187\n"
     ]
    }
   ],
   "source": [
    "print(\"my name is\", name, \"my BMI is\", BMI)"
   ]
  }
 ],
 "metadata": {
  "kernelspec": {
   "display_name": "Python 3 (ipykernel)",
   "language": "python",
   "name": "python3"
  },
  "language_info": {
   "codemirror_mode": {
    "name": "ipython",
    "version": 3
   },
   "file_extension": ".py",
   "mimetype": "text/x-python",
   "name": "python",
   "nbconvert_exporter": "python",
   "pygments_lexer": "ipython3",
   "version": "3.9.12"
  }
 },
 "nbformat": 4,
 "nbformat_minor": 5
}
